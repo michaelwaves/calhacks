{
 "cells": [
  {
   "cell_type": "code",
   "execution_count": 2,
   "metadata": {},
   "outputs": [],
   "source": [
    "import pandas as pd\n",
    "import numpy as np\n",
    "from typing import List"
   ]
  },
  {
   "cell_type": "code",
   "execution_count": 3,
   "metadata": {},
   "outputs": [],
   "source": [
    "def read_transcript(file_path:str,strip_newlines:bool=True):\n",
    "    with open(file_path, 'r') as f:\n",
    "        transcript = f.readlines()\n",
    "    if strip_newlines:\n",
    "        lines = [line.strip() for line in transcript]\n",
    "    return lines\n",
    "\n",
    "def create_dataframe(lines:List[str]):\n",
    "    df = pd.DataFrame(lines, columns=['text'])\n",
    "    df['speaker'] = df['text'].apply(lambda x: x.split(':')[0])\n",
    "    df['text'] = df['text'].apply(lambda x: x.split(':')[1])\n",
    "    df['text'] = df['text'].apply(lambda x: x.strip())\n",
    "    df[\"title\"] = df[\"text\"][0]\n",
    "    df[\"description\"] = df[\"text\"][1]\n",
    "    df.drop([0,1], inplace=True)\n",
    "    return df\n",
    "\n",
    "def create_embeddings_dataframe(lines:List[str]):\n",
    "    df = pd.DataFrame(lines, columns=['text'])\n",
    "    df.drop([0,1], inplace=True)\n",
    "    return df\n",
    "\n",
    "def create_finetuning_dataframe(lines:List[str]):\n",
    "    #title = lines[0]\n",
    "    description = lines[1]\n",
    "    if lines[2].startswith(\"THERAPIST:\"):\n",
    "        lines = lines[3:]\n",
    "    prompts = []\n",
    "    responses = []\n",
    "    window = 3\n",
    "    for i in range(0, len(lines)-1, 2):\n",
    "        w = min(window, i)\n",
    "        prev = max(i-1, 0)\n",
    "        history = lines[i-w:prev] #chathistory of previous window lines, or if i < window, then the whole chat history\n",
    "        prompt = \"prompt: \" + description + \"\\n\\n###\\n\\n\" + \"\\n\".join(history) + \"\\n\"+ lines[i] +\"\\n\" + \"THERAPIST: \"\n",
    "        prompts.append(prompt)\n",
    "        responses.append(lines[i+1].split(\":\")[1].strip())\n",
    "\n",
    "    df = pd.DataFrame({\"prompt\": prompts, \"response\": responses})\n",
    "    return df\n"
   ]
  },
  {
   "cell_type": "code",
   "execution_count": 4,
   "metadata": {},
   "outputs": [],
   "source": [
    "transcript = read_transcript('./Transcripts/0.txt')"
   ]
  },
  {
   "cell_type": "code",
   "execution_count": 5,
   "metadata": {},
   "outputs": [],
   "source": [
    "df_fine_tuning = create_finetuning_dataframe(transcript)\n",
    "\n",
    "df_fine_tuning.to_csv('./finetuning_dataset_2.csv', index=False)\n"
   ]
  },
  {
   "cell_type": "code",
   "execution_count": 6,
   "metadata": {},
   "outputs": [
    {
     "name": "stdout",
     "output_type": "stream",
     "text": [
      "742\n",
      "743\n",
      "744\n",
      "745\n",
      "746\n",
      "747\n",
      "748\n",
      "749\n",
      "750\n",
      "868\n"
     ]
    }
   ],
   "source": [
    "dfs = []\n",
    "for i in range(311):\n",
    "    try:\n",
    "        transcript = read_transcript('./Transcripts/'+str(i)+'.txt')\n",
    "        df = create_dataframe(transcript)\n",
    "        dfs.append(df)\n",
    "    except:\n",
    "        print(i)\n",
    "        continue\n",
    "\n",
    "for i in range(312,1100):\n",
    "    try:\n",
    "        transcript = read_transcript('./Transcripts2/'+str(i)+'.txt')\n",
    "        df = create_dataframe(transcript)\n",
    "        dfs.append(df)\n",
    "    except:\n",
    "        print(i)\n",
    "        continue\n"
   ]
  },
  {
   "cell_type": "code",
   "execution_count": null,
   "metadata": {},
   "outputs": [],
   "source": [
    "df = pd.concat(dfs)"
   ]
  },
  {
   "cell_type": "code",
   "execution_count": 27,
   "metadata": {},
   "outputs": [
    {
     "data": {
      "text/html": [
       "<div>\n",
       "<style scoped>\n",
       "    .dataframe tbody tr th:only-of-type {\n",
       "        vertical-align: middle;\n",
       "    }\n",
       "\n",
       "    .dataframe tbody tr th {\n",
       "        vertical-align: top;\n",
       "    }\n",
       "\n",
       "    .dataframe thead th {\n",
       "        text-align: right;\n",
       "    }\n",
       "</style>\n",
       "<table border=\"1\" class=\"dataframe\">\n",
       "  <thead>\n",
       "    <tr style=\"text-align: right;\">\n",
       "      <th></th>\n",
       "      <th>text</th>\n",
       "    </tr>\n",
       "  </thead>\n",
       "  <tbody>\n",
       "    <tr>\n",
       "      <th>2</th>\n",
       "      <td>THERAPIST: Hi! Come on in!</td>\n",
       "    </tr>\n",
       "    <tr>\n",
       "      <th>3</th>\n",
       "      <td>CLIENT: Good morning!</td>\n",
       "    </tr>\n",
       "    <tr>\n",
       "      <th>4</th>\n",
       "      <td>THERAPIST: I’m going to just grab some water.</td>\n",
       "    </tr>\n",
       "    <tr>\n",
       "      <th>5</th>\n",
       "      <td>CLIENT: Okay, sounds good. (pause) How are you?</td>\n",
       "    </tr>\n",
       "    <tr>\n",
       "      <th>6</th>\n",
       "      <td>THERAPIST: Good, thank you!</td>\n",
       "    </tr>\n",
       "  </tbody>\n",
       "</table>\n",
       "</div>"
      ],
      "text/plain": [
       "                                              text\n",
       "2                       THERAPIST: Hi! Come on in!\n",
       "3                            CLIENT: Good morning!\n",
       "4    THERAPIST: I’m going to just grab some water.\n",
       "5  CLIENT: Okay, sounds good. (pause) How are you?\n",
       "6                      THERAPIST: Good, thank you!"
      ]
     },
     "execution_count": 27,
     "metadata": {},
     "output_type": "execute_result"
    }
   ],
   "source": [
    "embeddings_df = create_embeddings_dataframe(transcript)\n",
    "embeddings_df.head()"
   ]
  }
 ],
 "metadata": {
  "kernelspec": {
   "display_name": "base",
   "language": "python",
   "name": "python3"
  },
  "language_info": {
   "codemirror_mode": {
    "name": "ipython",
    "version": 3
   },
   "file_extension": ".py",
   "mimetype": "text/x-python",
   "name": "python",
   "nbconvert_exporter": "python",
   "pygments_lexer": "ipython3",
   "version": "3.8.13"
  },
  "orig_nbformat": 4
 },
 "nbformat": 4,
 "nbformat_minor": 2
}
