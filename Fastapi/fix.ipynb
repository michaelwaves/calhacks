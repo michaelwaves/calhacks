{
 "cells": [
  {
   "cell_type": "code",
   "execution_count": 1,
   "metadata": {},
   "outputs": [],
   "source": [
    "import pandas as pd\n",
    "import ast"
   ]
  },
  {
   "cell_type": "code",
   "execution_count": null,
   "metadata": {},
   "outputs": [],
   "source": [
    "df = pd.read_csv('final_embeddings.csv')\n",
    "for i, row in df.iterrows():\n",
    "    embedding_str = row['ada_embedding']\n",
    "    embedding_list = ast.literal_eval(embedding_str)\n",
    "    embedding_floats = [float(x) for x in embedding_list]\n",
    "    df.at[i, 'ada_embedding'] = embedding_floats\n",
    "\n",
    "df.to_csv('final_embeddings_2.csv', index=False)"
   ]
  }
 ],
 "metadata": {
  "kernelspec": {
   "display_name": "pytorch",
   "language": "python",
   "name": "python3"
  },
  "language_info": {
   "codemirror_mode": {
    "name": "ipython",
    "version": 3
   },
   "file_extension": ".py",
   "mimetype": "text/x-python",
   "name": "python",
   "nbconvert_exporter": "python",
   "pygments_lexer": "ipython3",
   "version": "3.10.8"
  },
  "orig_nbformat": 4
 },
 "nbformat": 4,
 "nbformat_minor": 2
}
